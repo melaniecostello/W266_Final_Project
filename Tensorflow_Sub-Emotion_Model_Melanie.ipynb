{
 "cells": [
  {
   "cell_type": "code",
   "execution_count": 1,
   "metadata": {
    "collapsed": true
   },
   "outputs": [],
   "source": [
    "import pandas as pd\n",
    "import numpy as np\n",
    "import tensorflow as tf\n",
    "import HTMLParser as htm\n",
    "import string\n",
    "import re\n",
    "import time\n",
    "\n",
    "# SK-learn library for splitting data\n",
    "from sklearn.model_selection import train_test_split\n",
    "from sklearn import preprocessing"
   ]
  },
  {
   "cell_type": "markdown",
   "metadata": {},
   "source": [
    "## Read in data"
   ]
  },
  {
   "cell_type": "code",
   "execution_count": 2,
   "metadata": {
    "collapsed": false
   },
   "outputs": [
    {
     "data": {
      "text/html": [
       "<div>\n",
       "<table border=\"1\" class=\"dataframe\">\n",
       "  <thead>\n",
       "    <tr style=\"text-align: right;\">\n",
       "      <th></th>\n",
       "      <th>Id</th>\n",
       "      <th>Tweet</th>\n",
       "      <th>Emotion</th>\n",
       "      <th>Positive</th>\n",
       "      <th>escape</th>\n",
       "    </tr>\n",
       "  </thead>\n",
       "  <tbody>\n",
       "    <tr>\n",
       "      <th>0</th>\n",
       "      <td>138881940341260288:</td>\n",
       "      <td>I got a surprise for all you bitches...pull th...</td>\n",
       "      <td>:: surprise</td>\n",
       "      <td>0</td>\n",
       "      <td>I got a surprise for all you bitches...pull th...</td>\n",
       "    </tr>\n",
       "    <tr>\n",
       "      <th>1</th>\n",
       "      <td>144479819843911683:</td>\n",
       "      <td>If I was a thief.. The first thing I would ste...</td>\n",
       "      <td>:: joy</td>\n",
       "      <td>1</td>\n",
       "      <td>If I was a thief.. The first thing I would ste...</td>\n",
       "    </tr>\n",
       "    <tr>\n",
       "      <th>2</th>\n",
       "      <td>139110849120972800:</td>\n",
       "      <td>\"&amp;quot;@RevRunWisdom: not afraid of tomorrow, ...</td>\n",
       "      <td>:: fear</td>\n",
       "      <td>0</td>\n",
       "      <td>\"\"@RevRunWisdom: not afraid of tomorrow, for I...</td>\n",
       "    </tr>\n",
       "    <tr>\n",
       "      <th>3</th>\n",
       "      <td>141532076791971840:</td>\n",
       "      <td>\"Extreme can neither fight nor fly.&amp;#xA;-- Wil...</td>\n",
       "      <td>:: fear</td>\n",
       "      <td>0</td>\n",
       "      <td>\"Extreme can neither fight nor fly.\\n-- Willia...</td>\n",
       "    </tr>\n",
       "    <tr>\n",
       "      <th>4</th>\n",
       "      <td>145353048817012736:</td>\n",
       "      <td>Thinks that @melbahughes had a great 50th birt...</td>\n",
       "      <td>:: surprise</td>\n",
       "      <td>0</td>\n",
       "      <td>Thinks that @melbahughes had a great 50th birt...</td>\n",
       "    </tr>\n",
       "  </tbody>\n",
       "</table>\n",
       "</div>"
      ],
      "text/plain": [
       "                    Id                                              Tweet  \\\n",
       "0  138881940341260288:  I got a surprise for all you bitches...pull th...   \n",
       "1  144479819843911683:  If I was a thief.. The first thing I would ste...   \n",
       "2  139110849120972800:  \"&quot;@RevRunWisdom: not afraid of tomorrow, ...   \n",
       "3  141532076791971840:  \"Extreme can neither fight nor fly.&#xA;-- Wil...   \n",
       "4  145353048817012736:  Thinks that @melbahughes had a great 50th birt...   \n",
       "\n",
       "       Emotion  Positive                                             escape  \n",
       "0  :: surprise         0  I got a surprise for all you bitches...pull th...  \n",
       "1       :: joy         1  If I was a thief.. The first thing I would ste...  \n",
       "2      :: fear         0  \"\"@RevRunWisdom: not afraid of tomorrow, for I...  \n",
       "3      :: fear         0  \"Extreme can neither fight nor fly.\\n-- Willia...  \n",
       "4  :: surprise         0  Thinks that @melbahughes had a great 50th birt...  "
      ]
     },
     "execution_count": 2,
     "metadata": {},
     "output_type": "execute_result"
    }
   ],
   "source": [
    "data = pd.read_csv(\"tweet_data_1.csv\",sep='\\t',quoting=3)\n",
    "data[\"escape\"] = data.apply(lambda row: htm.HTMLParser().unescape(row[1].decode(\"utf-8\")),axis=1)\n",
    "\n",
    "data.head()"
   ]
  },
  {
   "cell_type": "markdown",
   "metadata": {},
   "source": [
    "## Split into train & test sets"
   ]
  },
  {
   "cell_type": "code",
   "execution_count": 3,
   "metadata": {
    "collapsed": false
   },
   "outputs": [],
   "source": [
    "# Train and test data frames\n",
    "train, test = train_test_split(data, test_size = 0.2)\n",
    "\n",
    "# Train and test target labels for polarity\n",
    "train_pol_y = train.ix[:,3].tolist()\n",
    "test_pol_y = test.ix[:,3].tolist()\n",
    "\n",
    "# Binarize labels for sub-emotion classifier\n",
    "train_emo = train.ix[:,2].tolist()\n",
    "test_emo = test.ix[:,2].tolist()\n",
    "emo_bin = preprocessing.LabelBinarizer()\n",
    "\n",
    "# Labels for sub-emotion classifier\n",
    "train_emo_y = emo_bin.fit_transform(train_emo)\n",
    "tests_emo_y = emo_bin.transform(test_emo)\n",
    "\n",
    "# Train and test inputs\n",
    "train_pol_x = train.ix[:, 4].tolist()\n",
    "test_pol_x = test.ix[:, 4].tolist()"
   ]
  },
  {
   "cell_type": "code",
   "execution_count": 29,
   "metadata": {
    "collapsed": false
   },
   "outputs": [
    {
     "data": {
      "text/plain": [
       "array([0, 0, 0, 0, 0, 1])"
      ]
     },
     "execution_count": 29,
     "metadata": {},
     "output_type": "execute_result"
    }
   ],
   "source": [
    "train_emo_y[0]"
   ]
  },
  {
   "cell_type": "markdown",
   "metadata": {},
   "source": [
    "## Get matrix ids"
   ]
  },
  {
   "cell_type": "code",
   "execution_count": 4,
   "metadata": {
    "collapsed": false
   },
   "outputs": [],
   "source": [
    "# Matrix ids for each tweet were built using GloVe word embeddings\n",
    "# Because construction of matrix ids is computationally expensive,\n",
    "# matrix ids were saved and will simply be reloaded\n",
    "d = np.load('ids.npz')\n",
    "train_ids = d['train_ids']\n",
    "test_ids = d['test_ids']"
   ]
  },
  {
   "cell_type": "markdown",
   "metadata": {},
   "source": [
    "## Pull in GloVe embeddings"
   ]
  },
  {
   "cell_type": "code",
   "execution_count": 5,
   "metadata": {
    "collapsed": false
   },
   "outputs": [
    {
     "name": "stdout",
     "output_type": "stream",
     "text": [
      "Loaded the word list!\n",
      "Loaded the word vectors!\n"
     ]
    }
   ],
   "source": [
    "# Pull in word list & vectors\n",
    "wordsList = np.load('wordsList.npy')\n",
    "print('Loaded the word list!')\n",
    "wordsList = wordsList.tolist() #Originally loaded as numpy array\n",
    "wordsList = [word.decode('UTF-8') for word in wordsList] #Encode words as UTF-8\n",
    "wordVectors = np.load('wordVectors.npy')\n",
    "print ('Loaded the word vectors!')"
   ]
  },
  {
   "cell_type": "markdown",
   "metadata": {},
   "source": [
    "## Helper functions for training"
   ]
  },
  {
   "cell_type": "code",
   "execution_count": 16,
   "metadata": {
    "collapsed": true
   },
   "outputs": [],
   "source": [
    "from random import randint\n",
    "\n",
    "# For Polarity Classifier\n",
    "def getTrainBatch(train_data, train_labels, train_ids):\n",
    "    labels = []\n",
    "    arr = np.zeros([batchSize, maxSeqLength])\n",
    "    # iterate through batch size\n",
    "    for i in range(batchSize):\n",
    "        num = randint(1, (len(train_data)-1))\n",
    "        if train_labels[num-1] == 1:\n",
    "            labels.append([1,0])\n",
    "        else:\n",
    "            labels.append([0,1])\n",
    "            \n",
    "        arr[i] = train_ids[num-1:num]\n",
    "        \n",
    "    return arr.astype(int), labels\n",
    "\n",
    "def getTestBatch(test_data, test_labels, test_ids):\n",
    "    labels = []\n",
    "    arr = np.zeros([batchSize, maxSeqLength])\n",
    "    for i in range(batchSize):\n",
    "        num = randint(1,(len(test_data)-1))\n",
    "        \n",
    "        if test_labels[num-1] == 1:\n",
    "            labels.append([1,0])\n",
    "        else:\n",
    "            labels.append([0,1])\n",
    "            \n",
    "        arr[i] = test_ids[num-1:num]\n",
    "        \n",
    "    return arr.astype(int), labels\n",
    "\n",
    "# For sub-emotion classifier\n",
    "def getTrainBatch_subEmo(train_data, train_labels, train_ids, batchSize, maxSeqLength):\n",
    "    labels = []\n",
    "    arr = np.zeros([batchSize, maxSeqLength])\n",
    "    # iterate through batch size\n",
    "    for i in range(batchSize):\n",
    "        num = randint(1, (len(train_data)-1))\n",
    "        labels.append(train_labels[num-1])\n",
    "            \n",
    "        arr[i] = train_ids[num-1:num]\n",
    "        \n",
    "    return arr.astype(int), labels\n",
    "\n",
    "\n",
    "def getTestBatch_subEmo(test_data, test_labels, test_ids, batchSize, maxSeqLength):\n",
    "    labels = []\n",
    "    arr = np.zeros([batchSize, maxSeqLength])\n",
    "    for i in range(batchSize):\n",
    "        num = randint(1,(len(test_data)-1))\n",
    "        labels.append(test_labels[num-1])\n",
    "            \n",
    "        arr[i] = test_ids[num-1:num]\n",
    "        \n",
    "    return arr.astype(int), labels"
   ]
  },
  {
   "cell_type": "markdown",
   "metadata": {},
   "source": [
    "# Sub-emotion Classifier without polarity"
   ]
  },
  {
   "cell_type": "markdown",
   "metadata": {},
   "source": [
    "## RNN Model"
   ]
  },
  {
   "cell_type": "code",
   "execution_count": 31,
   "metadata": {
    "collapsed": false
   },
   "outputs": [],
   "source": [
    "# Specify parameters\n",
    "maxSeqLength = max([len(elem.split()) for elem in data.ix[:, 4]]) #Maximum number of words in a tweet\n",
    "batchSize = 100\n",
    "lstmUnits = 2\n",
    "numClasses = 6\n",
    "numDimensions = 50\n",
    "\n",
    "iterations = 10000\n",
    "\n",
    "# Reset graph & create placeholders\n",
    "tf.reset_default_graph()\n",
    "labels = tf.placeholder(tf.float32, [batchSize, numClasses])\n",
    "input_data = tf.placeholder(tf.int32, [batchSize, maxSeqLength])\n",
    "\n",
    "# Lookup word vectors\n",
    "data_vec = tf.Variable(tf.zeros([batchSize, maxSeqLength, numDimensions]),dtype=tf.float32)\n",
    "data_vec = tf.nn.embedding_lookup(wordVectors,input_data)\n",
    "\n",
    "# Feed RNN cell\n",
    "lstmCell = tf.contrib.rnn.BasicLSTMCell(lstmUnits)\n",
    "lstmCell = tf.contrib.rnn.DropoutWrapper(cell=lstmCell, output_keep_prob=0.75)\n",
    "value, _ = tf.nn.dynamic_rnn(lstmCell, data_vec, dtype=tf.float32)\n",
    "\n",
    "# Get final output\n",
    "weight = tf.Variable(tf.truncated_normal([lstmUnits, numClasses]))\n",
    "bias = tf.Variable(tf.constant(0.1, shape=[numClasses]))\n",
    "value = tf.transpose(value, [1, 0, 2])\n",
    "last = tf.gather(value, int(value.get_shape()[0]) - 1)\n",
    "prediction = (tf.matmul(last, weight) + bias)\n",
    "\n",
    "# Define correct predictions and accuracy\n",
    "comparison = tf.argmax(prediction,1)\n",
    "correctPred = tf.equal(tf.argmax(prediction,1), tf.argmax(labels,1))\n",
    "accuracy = tf.reduce_mean(tf.cast(correctPred, tf.float32))\n",
    "\n",
    "# Define loss & optimizer\n",
    "loss = tf.reduce_mean(tf.nn.softmax_cross_entropy_with_logits(logits=prediction, labels=labels))\n",
    "optimizer = tf.train.AdamOptimizer().minimize(loss)"
   ]
  },
  {
   "cell_type": "markdown",
   "metadata": {},
   "source": [
    "## For Tensorboard"
   ]
  },
  {
   "cell_type": "code",
   "execution_count": 32,
   "metadata": {
    "collapsed": false
   },
   "outputs": [],
   "source": [
    "import datetime\n",
    "\n",
    "tf.summary.scalar('Loss', loss)\n",
    "tf.summary.scalar('Accuracy', accuracy)\n",
    "merged = tf.summary.merge_all()\n",
    "logdir = \"tensorboard/\" + datetime.datetime.now().strftime(\"%Y%m%d-%H%M%S\") + \"/\"\n",
    "writer = tf.summary.FileWriter(logdir, sess.graph)"
   ]
  },
  {
   "cell_type": "markdown",
   "metadata": {},
   "source": [
    "## For Training"
   ]
  },
  {
   "cell_type": "code",
   "execution_count": 33,
   "metadata": {
    "collapsed": false
   },
   "outputs": [],
   "source": [
    "sess = tf.InteractiveSession()\n",
    "saver = tf.train.Saver()\n",
    "sess.run(tf.global_variables_initializer())\n",
    "\n",
    "for i in range(iterations):\n",
    "    # Next Batch of reviews\n",
    "    nextBatch, nextBatchLabels = getTrainBatch_subEmo(train_pol_x, train_emo_y, train_ids, batchSize, maxSeqLength);\n",
    "    sess.run(optimizer, {input_data: nextBatch, labels: nextBatchLabels})\n",
    "   \n",
    "    # Write summary to Tensorboard\n",
    "#     if (i % 50 == 0):\n",
    "#         summary = sess.run(merged, {input_data: nextBatch, labels: nextBatchLabels})\n",
    "#         writer.add_summary(summary, i)\n",
    "\n",
    "#     # Save the network every 10,000 training iterations\n",
    "#     if (i % 10000 == 0 and i != 0):\n",
    "#         save_path = saver.save(sess, \"models/pretrained_lstm.ckpt\", global_step=i)\n",
    "#         print(\"saved to %s\" % save_path)\n",
    "# writer.close()"
   ]
  },
  {
   "cell_type": "code",
   "execution_count": 36,
   "metadata": {
    "collapsed": false
   },
   "outputs": [
    {
     "name": "stdout",
     "output_type": "stream",
     "text": [
      "('Accuracy for this batch:', 31.999999284744263)\n",
      "('Accuracy for this batch:', 37.999999523162842)\n",
      "('Accuracy for this batch:', 33.000001311302185)\n",
      "('Accuracy for this batch:', 37.000000476837158)\n",
      "('Accuracy for this batch:', 30.000001192092896)\n",
      "('Accuracy for this batch:', 40.000000596046448)\n",
      "('Accuracy for this batch:', 33.000001311302185)\n",
      "('Accuracy for this batch:', 40.999999642372131)\n",
      "('Accuracy for this batch:', 40.000000596046448)\n",
      "('Accuracy for this batch:', 43.000000715255737)\n"
     ]
    }
   ],
   "source": [
    "iterations = 10\n",
    "for i in range(iterations):\n",
    "    nextBatch, nextBatchLabels = getTestBatch_subEmo(test_pol_x, tests_emo_y, test_ids, batchSize, maxSeqLength);\n",
    "    print(\"Accuracy for this batch:\", (sess.run(accuracy, {input_data: nextBatch, labels: nextBatchLabels})) * 100)"
   ]
  },
  {
   "cell_type": "code",
   "execution_count": 37,
   "metadata": {
    "collapsed": false
   },
   "outputs": [
    {
     "name": "stdout",
     "output_type": "stream",
     "text": [
      "('Compare:', array([3, 3, 3, 3, 3, 3, 3, 3, 3, 3, 3, 3, 3, 3, 3, 3, 3, 3, 3, 3, 3, 3, 3,\n",
      "       3, 3, 3, 3, 3, 3, 3, 3, 3, 3, 3, 3, 3, 3, 3, 3, 3, 3, 3, 3, 3, 3, 3,\n",
      "       3, 3, 3, 3, 3, 3, 3, 3, 3, 3, 3, 3, 3, 3, 3, 3, 3, 3, 3, 3, 3, 3, 3,\n",
      "       3, 3, 3, 3, 3, 3, 3, 3, 3, 3, 3, 3, 3, 3, 3, 3, 3, 3, 3, 3, 3, 3, 3,\n",
      "       3, 3, 3, 3, 3, 3, 3, 3]))\n"
     ]
    }
   ],
   "source": [
    "# Show index of predicted class\n",
    "print(\"Compare:\", (sess.run(comparison, {input_data: nextBatch, labels: nextBatchLabels})))"
   ]
  },
  {
   "cell_type": "code",
   "execution_count": 38,
   "metadata": {
    "collapsed": false
   },
   "outputs": [
    {
     "name": "stdout",
     "output_type": "stream",
     "text": [
      "('Preds:', array([[ -6.18120849e-01,  -1.29292178e+00,  -5.04282787e-02,\n",
      "          1.05776560e+00,   2.99769282e-01,   3.20789069e-01],\n",
      "       [ -8.26627970e-01,  -2.60414886e+00,  -5.32003403e-01,\n",
      "          1.46117842e+00,   1.84977233e-01,   2.76954383e-01],\n",
      "       [ -5.97185552e-01,  -1.14407337e+00,   1.81038119e-02,\n",
      "          9.67402816e-01,   2.95893252e-01,   3.05981725e-01],\n",
      "       [ -6.17704809e-01,  -1.28954434e+00,  -4.85741980e-02,\n",
      "          1.05475390e+00,   2.99316645e-01,   3.20026368e-01],\n",
      "       [ -6.36788130e-01,  -1.38501096e+00,  -6.38464093e-02,\n",
      "          1.02050960e+00,   2.66826183e-01,   2.88596451e-01],\n",
      "       [ -5.90257168e-01,  -1.06673324e+00,   7.37397522e-02,\n",
      "          8.56072247e-01,   2.69456863e-01,   2.69710690e-01],\n",
      "       [ -6.06284201e-01,  -1.22769511e+00,  -3.38991433e-02,\n",
      "          1.06157136e+00,   3.14536065e-01,   3.33566844e-01],\n",
      "       [ -6.40986443e-01,  -1.34031689e+00,   9.89777967e-03,\n",
      "          8.22470844e-01,   2.00828448e-01,   2.08286524e-01],\n",
      "       [ -6.23095453e-01,  -1.33330405e+00,  -7.25964308e-02,\n",
      "          1.09377456e+00,   3.05181056e-01,   3.29908282e-01],\n",
      "       [ -6.30147934e-01,  -1.37404215e+00,  -8.46454799e-02,\n",
      "          1.09694445e+00,   2.98062474e-01,   3.24389935e-01],\n",
      "       [ -6.29717350e-01,  -1.38705814e+00,  -1.02105185e-01,\n",
      "          1.14170730e+00,   3.12384874e-01,   3.42047155e-01],\n",
      "       [ -6.90604746e-01,  -1.65286708e+00,  -1.05310276e-01,\n",
      "          9.19972539e-01,   1.73975319e-01,   1.98433742e-01],\n",
      "       [ -5.97019911e-01,  -1.15020227e+00,   1.00706182e-02,\n",
      "          9.87875640e-01,   3.02407801e-01,   3.14027548e-01],\n",
      "       [ -6.26462996e-01,  -1.36064065e+00,  -8.76031145e-02,\n",
      "          1.11815083e+00,   3.08844566e-01,   3.36081505e-01],\n",
      "       [ -6.37805521e-01,  -1.42193556e+00,  -1.02023609e-01,\n",
      "          1.11099887e+00,   2.93611497e-01,   3.22486788e-01],\n",
      "       [ -8.48601460e-01,  -2.75864935e+00,  -6.01904333e-01,\n",
      "          1.55100751e+00,   1.87496349e-01,   2.90563971e-01],\n",
      "       [ -6.83736145e-01,  -1.68136930e+00,  -1.73592523e-01,\n",
      "          1.11458826e+00,   2.41981804e-01,   2.79976815e-01],\n",
      "       [ -6.06406271e-01,  -1.19782627e+00,   1.77514181e-03,\n",
      "          9.72968519e-01,   2.87025154e-01,   2.99314409e-01],\n",
      "       [ -6.17893577e-01,  -1.29107666e+00,  -4.94153984e-02,\n",
      "          1.05612028e+00,   2.99522012e-01,   3.20372403e-01],\n",
      "       [ -6.40361905e-01,  -1.36907041e+00,  -2.70155817e-02,\n",
      "          9.16030288e-01,   2.30447471e-01,   2.44928777e-01],\n",
      "       [ -7.51511633e-01,  -2.18196774e+00,  -4.17427242e-01,\n",
      "          1.46141040e+00,   2.71299064e-01,   3.48827481e-01],\n",
      "       [ -6.72402442e-01,  -1.65054870e+00,  -1.94893271e-01,\n",
      "          1.20996547e+00,   2.84458816e-01,   3.27553391e-01],\n",
      "       [ -8.88670921e-01,  -2.83908319e+00,  -4.93113130e-01,\n",
      "          1.13107777e+00,   1.17650330e-02,   9.04868543e-02],\n",
      "       [ -6.38308942e-01,  -1.41773808e+00,  -9.45446193e-02,\n",
      "          1.09062147e+00,   2.86738604e-01,   3.14154983e-01],\n",
      "       [ -6.34838879e-01,  -1.35693896e+00,  -4.07847576e-02,\n",
      "          9.70882177e-01,   2.53733724e-01,   2.71339417e-01],\n",
      "       [ -7.32922792e-01,  -1.90479672e+00,  -1.86391547e-01,\n",
      "          9.60690558e-01,   1.37963280e-01,   1.73680529e-01],\n",
      "       [ -5.91872156e-01,  -1.13013005e+00,   7.52414018e-03,\n",
      "          1.01358342e+00,   3.16260070e-01,   3.28851283e-01],\n",
      "       [ -6.61627710e-01,  -1.52591622e+00,  -1.03257746e-01,\n",
      "          1.02419627e+00,   2.39443690e-01,   2.66279221e-01],\n",
      "       [ -6.12577021e-01,  -1.25448811e+00,  -3.34338136e-02,\n",
      "          1.03668666e+00,   2.99623281e-01,   3.17965955e-01],\n",
      "       [ -9.49341595e-01,  -3.24478459e+00,  -6.61601007e-01,\n",
      "          1.31853390e+00,   9.62615013e-06,   1.04728624e-01],\n",
      "       [ -5.79947829e-01,  -1.07420301e+00,   1.26941167e-02,\n",
      "          1.04578578e+00,   3.39899719e-01,   3.52653146e-01],\n",
      "       [ -6.19208872e-01,  -1.30970073e+00,  -6.46036565e-02,\n",
      "          1.08868587e+00,   3.08071792e-01,   3.31661940e-01],\n",
      "       [ -5.96990228e-01,  -1.17695451e+00,  -2.14774814e-02,\n",
      "          1.06593525e+00,   3.26555699e-01,   3.44129771e-01],\n",
      "       [ -6.32162511e-01,  -1.40690744e+00,  -1.13001630e-01,\n",
      "          1.15940714e+00,   3.15044940e-01,   3.46529573e-01],\n",
      "       [ -6.08614624e-01,  -1.23800457e+00,  -3.41811329e-02,\n",
      "          1.05347824e+00,   3.09360147e-01,   3.28221798e-01],\n",
      "       [ -7.42216170e-01,  -1.96981752e+00,  -2.15576038e-01,\n",
      "          9.97745693e-01,   1.38739273e-01,   1.79075569e-01],\n",
      "       [ -6.28216207e-01,  -1.37487245e+00,  -9.54157412e-02,\n",
      "          1.13084126e+00,   3.10751796e-01,   3.39295328e-01],\n",
      "       [ -6.11589134e-01,  -1.26907730e+00,  -5.55657893e-02,\n",
      "          1.09509528e+00,   3.18800867e-01,   3.41412961e-01],\n",
      "       [ -6.52290285e-01,  -1.50596547e+00,  -1.27192736e-01,\n",
      "          1.11855245e+00,   2.79313207e-01,   3.11554819e-01],\n",
      "       [ -7.41881549e-01,  -2.07202005e+00,  -3.37222338e-01,\n",
      "          1.29956615e+00,   2.32360423e-01,   2.95677006e-01],\n",
      "       [ -6.33088112e-01,  -1.39317846e+00,  -9.21949893e-02,\n",
      "          1.10450780e+00,   2.97022939e-01,   3.24494123e-01],\n",
      "       [ -5.97690225e-01,  -1.18077612e+00,  -2.24130470e-02,\n",
      "          1.06560659e+00,   3.25650424e-01,   3.43334198e-01],\n",
      "       [ -6.37434840e-01,  -1.44970644e+00,  -1.36496484e-01,\n",
      "          1.19757116e+00,   3.20780605e-01,   3.56194526e-01],\n",
      "       [ -6.13471270e-01,  -1.26693296e+00,  -4.35048565e-02,\n",
      "          1.05819678e+00,   3.05241257e-01,   3.25398505e-01],\n",
      "       [ -6.35149598e-01,  -1.34512675e+00,  -2.53457241e-02,\n",
      "          9.31564033e-01,   2.41230935e-01,   2.55894452e-01],\n",
      "       [ -6.35756373e-01,  -1.42419910e+00,  -1.15071520e-01,\n",
      "          1.15096605e+00,   3.08310837e-01,   3.39843094e-01],\n",
      "       [ -6.14877462e-01,  -1.27461004e+00,  -4.53842394e-02,\n",
      "          1.05753648e+00,   3.03422689e-01,   3.23800355e-01],\n",
      "       [ -6.56072855e-01,  -1.55608249e+00,  -1.66830868e-01,\n",
      "          1.20222163e+00,   3.00816655e-01,   3.40175092e-01],\n",
      "       [ -6.27320886e-01,  -1.34254503e+00,  -6.20152205e-02,\n",
      "          1.05169380e+00,   2.87330002e-01,   3.09657991e-01],\n",
      "       [ -8.74195695e-01,  -2.75300407e+00,  -4.65490371e-01,\n",
      "          1.11742592e+00,   2.41684914e-02,   9.90602523e-02],\n",
      "       [ -6.11131489e-01,  -1.25415897e+00,  -4.03776914e-02,\n",
      "          1.05929530e+00,   3.08267206e-01,   3.28057736e-01],\n",
      "       [ -6.27750874e-01,  -1.34489262e+00,  -6.25899211e-02,\n",
      "          1.05149186e+00,   2.86773890e-01,   3.09169292e-01],\n",
      "       [ -6.08743429e-01,  -1.24112129e+00,  -3.71859707e-02,\n",
      "          1.06041670e+00,   3.11355621e-01,   3.30771863e-01],\n",
      "       [ -6.22782290e-01,  -1.31776655e+00,  -5.59492633e-02,\n",
      "          1.05382478e+00,   2.93199629e-01,   3.14816236e-01],\n",
      "       [ -5.81590354e-01,  -1.07834435e+00,   1.61631666e-02,\n",
      "          1.03101921e+00,   3.33452046e-01,   3.45394343e-01],\n",
      "       [ -5.83151758e-01,  -1.10257530e+00,  -4.35747579e-03,\n",
      "          1.07583141e+00,   3.45502377e-01,   3.61166924e-01],\n",
      "       [ -6.62314892e-01,  -1.61782360e+00,  -2.07639679e-01,\n",
      "          1.27950680e+00,   3.17523986e-01,   3.63985449e-01],\n",
      "       [ -6.27857804e-01,  -1.37196314e+00,  -9.38186795e-02,\n",
      "          1.12824714e+00,   3.10361922e-01,   3.38638365e-01],\n",
      "       [ -6.65605605e-01,  -1.60575843e+00,  -1.76792249e-01,\n",
      "          1.19087851e+00,   2.86366880e-01,   3.26695114e-01],\n",
      "       [ -5.52689672e-01,  -9.06834960e-01,   7.08989203e-02,\n",
      "          1.00478733e+00,   3.58533025e-01,   3.62906605e-01],\n",
      "       [ -6.17893577e-01,  -1.29107666e+00,  -4.94153984e-02,\n",
      "          1.05612028e+00,   2.99522012e-01,   3.20372403e-01],\n",
      "       [ -5.85963726e-01,  -1.02291131e+00,   1.03399113e-01,\n",
      "          7.98985124e-01,   2.56751597e-01,   2.51819789e-01],\n",
      "       [ -5.71700335e-01,  -1.02402556e+00,   2.97617503e-02,\n",
      "          1.03472340e+00,   3.45952272e-01,   3.56272727e-01],\n",
      "       [ -6.69988096e-01,  -1.61671209e+00,  -1.67424127e-01,\n",
      "          1.15120220e+00,   2.69078165e-01,   3.07221025e-01],\n",
      "       [ -5.37422538e-01,  -8.51744056e-01,   5.81363849e-02,\n",
      "          1.09390473e+00,   4.03592795e-01,   4.11830425e-01],\n",
      "       [ -5.81766725e-01,  -1.08906531e+00,   4.47484851e-03,\n",
      "          1.05923295e+00,   3.41965199e-01,   3.56095701e-01],\n",
      "       [ -6.01717710e-01,  -1.15976608e+00,   2.26686038e-02,\n",
      "          9.39030051e-01,   2.81924576e-01,   2.90719569e-01],\n",
      "       [ -5.89979649e-01,  -1.12109184e+00,   8.53473321e-03,\n",
      "          1.01822484e+00,   3.19866955e-01,   3.32448065e-01],\n",
      "       [ -6.11098289e-01,  -1.23591495e+00,  -1.91339180e-02,\n",
      "          1.00693226e+00,   2.92129576e-01,   3.07915658e-01],\n",
      "       [ -6.09572411e-01,  -1.24564707e+00,  -3.82939056e-02,\n",
      "          1.06002736e+00,   3.10283542e-01,   3.29829693e-01],\n",
      "       [ -7.08428442e-01,  -1.82560563e+00,  -2.17660055e-01,\n",
      "          1.13033450e+00,   2.18493775e-01,   2.62446463e-01],\n",
      "       [ -6.05521798e-01,  -1.19064665e+00,   5.71645424e-03,\n",
      "          9.66566443e-01,   2.86062986e-01,   2.97693074e-01],\n",
      "       [ -7.90623426e-01,  -2.23409748e+00,  -2.80273676e-01,\n",
      "          9.75016534e-01,   7.61356205e-02,   1.24059111e-01],\n",
      "       [ -5.99851668e-01,  -1.14461827e+00,   3.09841223e-02,\n",
      "          9.25522685e-01,   2.79894531e-01,   2.87298858e-01],\n",
      "       [ -6.51066482e-01,  -1.47218454e+00,  -9.37519073e-02,\n",
      "          1.04054427e+00,   2.56620497e-01,   2.82670289e-01],\n",
      "       [ -6.21797025e-01,  -1.31238770e+00,  -5.46324961e-02,\n",
      "          1.05428743e+00,   2.94473767e-01,   3.15935969e-01],\n",
      "       [ -6.17893577e-01,  -1.29107666e+00,  -4.94153984e-02,\n",
      "          1.05612028e+00,   2.99522012e-01,   3.20372403e-01],\n",
      "       [ -6.58706963e-01,  -1.52442145e+00,  -1.16314769e-01,\n",
      "          1.06747341e+00,   2.56166369e-01,   2.85743743e-01],\n",
      "       [ -6.38493955e-01,  -1.41940260e+00,  -9.55597311e-02,\n",
      "          1.09243155e+00,   2.87085295e-01,   3.14675510e-01],\n",
      "       [ -6.06712222e-01,  -1.23003209e+00,  -3.44712362e-02,\n",
      "          1.06137037e+00,   3.13982487e-01,   3.33080351e-01],\n",
      "       [ -6.48974657e-01,  -1.48533070e+00,  -1.19788349e-01,\n",
      "          1.11276376e+00,   2.81332076e-01,   3.12493145e-01],\n",
      "       [ -6.44003272e-01,  -1.43362296e+00,  -8.43117461e-02,\n",
      "          1.04386067e+00,   2.65755117e-01,   2.90697843e-01],\n",
      "       [ -6.09327912e-01,  -1.22154307e+00,  -1.12443976e-02,\n",
      "          9.94116902e-01,   2.90203542e-01,   3.04670185e-01],\n",
      "       [ -5.74489474e-01,  -9.71476674e-01,   1.05579227e-01,\n",
      "          8.36876750e-01,   2.81631887e-01,   2.77383417e-01],\n",
      "       [ -8.29318881e-01,  -2.63190150e+00,  -5.50929487e-01,\n",
      "          1.49779046e+00,   1.93197489e-01,   2.88488269e-01],\n",
      "       [ -6.18627250e-01,  -1.29703212e+00,  -5.26847169e-02,\n",
      "          1.06143081e+00,   3.00320119e-01,   3.21717292e-01],\n",
      "       [ -6.30820990e-01,  -1.38542247e+00,  -9.45887864e-02,\n",
      "          1.11897326e+00,   3.04094702e-01,   3.32233727e-01],\n",
      "       [ -6.71574533e-01,  -1.67347264e+00,  -2.25996122e-01,\n",
      "          1.28993559e+00,   3.10113460e-01,   3.59154493e-01],\n",
      "       [ -6.43641412e-01,  -1.43164718e+00,  -8.38280767e-02,\n",
      "          1.04403067e+00,   2.66223133e-01,   2.91109145e-01],\n",
      "       [ -6.13409758e-01,  -1.26659703e+00,  -4.34226207e-02,\n",
      "          1.05822563e+00,   3.05320829e-01,   3.25468451e-01],\n",
      "       [ -7.24057317e-01,  -1.94468021e+00,  -2.78157204e-01,\n",
      "          1.22085953e+00,   2.28512913e-01,   2.82387316e-01],\n",
      "       [ -6.33564651e-01,  -1.35559380e+00,  -4.56676632e-02,\n",
      "          9.87752736e-01,   2.60408372e-01,   2.79056787e-01],\n",
      "       [ -7.64037013e-01,  -2.22620964e+00,  -4.05835569e-01,\n",
      "          1.38552725e+00,   2.33475685e-01,   3.07622492e-01],\n",
      "       [ -6.56714559e-01,  -1.51458097e+00,  -1.14868686e-01,\n",
      "          1.07141531e+00,   2.59671748e-01,   2.89166391e-01],\n",
      "       [ -8.39995384e-01,  -2.50364447e+00,  -3.46260726e-01,\n",
      "          9.51834321e-01,   1.22843087e-02,   6.79461956e-02],\n",
      "       [ -6.17893577e-01,  -1.29107666e+00,  -4.94153984e-02,\n",
      "          1.05612028e+00,   2.99522012e-01,   3.20372403e-01],\n",
      "       [ -6.34620249e-01,  -1.39909184e+00,  -9.13658515e-02,\n",
      "          1.09668040e+00,   2.92845726e-01,   3.20014328e-01],\n",
      "       [ -6.38308942e-01,  -1.41773808e+00,  -9.45446193e-02,\n",
      "          1.09062147e+00,   2.86738604e-01,   3.14154983e-01],\n",
      "       [ -5.89387298e-01,  -1.13770795e+00,  -1.39703862e-02,\n",
      "          1.07606363e+00,   3.38414341e-01,   3.55297506e-01],\n",
      "       [ -6.43910885e-01,  -1.46013451e+00,  -1.15895495e-01,\n",
      "          1.12224495e+00,   2.90075302e-01,   3.20985079e-01]], dtype=float32))\n"
     ]
    }
   ],
   "source": [
    "# Show actual predicted values\n",
    "print(\"Preds:\", (sess.run(prediction, {input_data: nextBatch, labels: nextBatchLabels})))"
   ]
  },
  {
   "cell_type": "code",
   "execution_count": 51,
   "metadata": {
    "collapsed": false
   },
   "outputs": [],
   "source": [
    "d.close()"
   ]
  },
  {
   "cell_type": "code",
   "execution_count": 23,
   "metadata": {
    "collapsed": false
   },
   "outputs": [
    {
     "data": {
      "text/plain": [
       "array([0, 0, 1, 0, 0, 0])"
      ]
     },
     "execution_count": 23,
     "metadata": {},
     "output_type": "execute_result"
    }
   ],
   "source": [
    "tests_emo_y[-1]"
   ]
  }
 ],
 "metadata": {
  "kernelspec": {
   "display_name": "Python 2",
   "language": "python",
   "name": "python2"
  },
  "language_info": {
   "codemirror_mode": {
    "name": "ipython",
    "version": 2
   },
   "file_extension": ".py",
   "mimetype": "text/x-python",
   "name": "python",
   "nbconvert_exporter": "python",
   "pygments_lexer": "ipython2",
   "version": "2.7.13"
  }
 },
 "nbformat": 4,
 "nbformat_minor": 2
}
